{
 "cells": [
  {
   "cell_type": "markdown",
   "metadata": {},
   "source": [
    "# ML Pipeline Preparation\n",
    "Follow the instructions below to help you create your ML pipeline.\n",
    "### 1. Import libraries and load data from database.\n",
    "- Import Python libraries\n",
    "- Load dataset from database with [`read_sql_table`](https://pandas.pydata.org/pandas-docs/stable/generated/pandas.read_sql_table.html)\n",
    "- Define feature and target variables X and Y"
   ]
  },
  {
   "cell_type": "code",
   "execution_count": 2,
   "metadata": {},
   "outputs": [
    {
     "name": "stdout",
     "output_type": "stream",
     "text": [
      "[nltk_data] Downloading package punkt to /root/nltk_data...\n",
      "[nltk_data]   Unzipping tokenizers/punkt.zip.\n",
      "[nltk_data] Downloading package wordnet to /root/nltk_data...\n",
      "[nltk_data]   Unzipping corpora/wordnet.zip.\n",
      "[nltk_data] Downloading package stopwords to /root/nltk_data...\n",
      "[nltk_data]   Unzipping corpora/stopwords.zip.\n"
     ]
    }
   ],
   "source": [
    "# import libraries\n",
    "import pandas as pd\n",
    "import numpy as np\n",
    "from sqlalchemy import create_engine\n",
    "import re\n",
    "from IPython import display\n",
    "import warnings\n",
    "\n",
    "import nltk\n",
    "from nltk.tokenize import word_tokenize, sent_tokenize\n",
    "from nltk.corpus import stopwords\n",
    "from nltk.stem.wordnet import WordNetLemmatizer\n",
    "\n",
    "nltk.download(['punkt', 'wordnet', 'stopwords'])\n",
    "\n",
    "from sklearn.ensemble import RandomForestClassifier\n",
    "from sklearn.multioutput import MultiOutputClassifier\n",
    "from sklearn.pipeline import Pipeline, FeatureUnion, TransformerMixin\n",
    "from sklearn.model_selection import train_test_split, GridSearchCV\n",
    "from sklearn.feature_extraction.text import CountVectorizer, BaseEstimator, TfidfTransformer\n",
    "from sklearn.metrics import f1_score, recall_score, precision_score, classification_report, accuracy_score"
   ]
  },
  {
   "cell_type": "code",
   "execution_count": 3,
   "metadata": {},
   "outputs": [],
   "source": [
    "# load data from database\n",
    "engine = create_engine('sqlite:///InsertDatabaseName.db')\n",
    "df = pd.read_sql(\"Select * from InsertTableName\", engine)\n",
    "X = df['message']\n",
    "y = df.drop(['id', 'message', 'original', 'genre'], axis = 1)"
   ]
  },
  {
   "cell_type": "markdown",
   "metadata": {},
   "source": [
    "### 2. Write a tokenization function to process your text data"
   ]
  },
  {
   "cell_type": "code",
   "execution_count": 4,
   "metadata": {},
   "outputs": [],
   "source": [
    "def tokenize(text):\n",
    "    \"\"\"\n",
    "    Tokenize the text column in the dataset using functions like\n",
    "    word_tokenize, WordNetLemmatizer and remove the words contained\n",
    "    in the list of English stopwords\n",
    "    \n",
    "    Input\n",
    "        Text - The text column containing the message information in the dataframe\n",
    "        \n",
    "    Output\n",
    "        List of strings parsed from the text column\n",
    "    \"\"\"\n",
    "    text = re.sub(r\"[^a-zA-Z0-9]\", \" \", text.lower()) # Text Normalization\n",
    "    \n",
    "    tokens = word_tokenize(text) # Text Tokenization\n",
    "    \n",
    "    lemmatizer = WordNetLemmatizer() # Lemmatize words and remove stop words\n",
    "    stop_words = stopwords.words(\"english\")\n",
    "    \n",
    "    result = []\n",
    "    for token in tokens:\n",
    "        if token not in stop_words:\n",
    "            result.append(lemmatizer.lemmatize(token))\n",
    "    return result\n",
    "    pass"
   ]
  },
  {
   "cell_type": "markdown",
   "metadata": {},
   "source": [
    "### 3. Build a machine learning pipeline\n",
    "This machine pipeline should take in the `message` column as input and output classification results on the other 36 categories in the dataset. You may find the [MultiOutputClassifier](http://scikit-learn.org/stable/modules/generated/sklearn.multioutput.MultiOutputClassifier.html) helpful for predicting multiple target variables."
   ]
  },
  {
   "cell_type": "code",
   "execution_count": 9,
   "metadata": {},
   "outputs": [],
   "source": [
    "pipeline = Pipeline([\n",
    "        ('vect', CountVectorizer(tokenizer = tokenize)),\n",
    "        ('tfidf', TfidfTransformer()),\n",
    "        ('clf', MultiOutputClassifier(RandomForestClassifier()))\n",
    "])"
   ]
  },
  {
   "cell_type": "markdown",
   "metadata": {},
   "source": [
    "### 4. Train pipeline\n",
    "- Split data into train and test sets\n",
    "- Train pipeline"
   ]
  },
  {
   "cell_type": "code",
   "execution_count": 10,
   "metadata": {},
   "outputs": [],
   "source": [
    "X_train, X_test, y_train, y_test = train_test_split(X, y, random_state = 40)"
   ]
  },
  {
   "cell_type": "code",
   "execution_count": 11,
   "metadata": {},
   "outputs": [
    {
     "data": {
      "text/plain": [
       "Pipeline(memory=None,\n",
       "     steps=[('vect', CountVectorizer(analyzer='word', binary=False, decode_error='strict',\n",
       "        dtype=<class 'numpy.int64'>, encoding='utf-8', input='content',\n",
       "        lowercase=True, max_df=1.0, max_features=None, min_df=1,\n",
       "        ngram_range=(1, 1), preprocessor=None, stop_words=None,\n",
       "        strip...oob_score=False, random_state=None, verbose=0,\n",
       "            warm_start=False),\n",
       "           n_jobs=1))])"
      ]
     },
     "execution_count": 11,
     "metadata": {},
     "output_type": "execute_result"
    }
   ],
   "source": [
    "pipeline.fit(X_train, y_train)"
   ]
  },
  {
   "cell_type": "markdown",
   "metadata": {},
   "source": [
    "### 5. Test your model\n",
    "Report the f1 score, precision and recall for each output category of the dataset. You can do this by iterating through the columns and calling sklearn's `classification_report` on each."
   ]
  },
  {
   "cell_type": "code",
   "execution_count": 25,
   "metadata": {},
   "outputs": [],
   "source": [
    "def evaluation_report(actual, predicted, col_names):\n",
    "    \"\"\"\n",
    "    Calculate the evaluation metrics for the model. F1 Score, Precision & Recall\n",
    "    \n",
    "    Input\n",
    "        actual - Array containing the actual labels\n",
    "        predicted - Array containing the predicted labels\n",
    "        col_names - List of strings containing names for each of the predicted fields\n",
    "    \n",
    "    Output\n",
    "        metrics_dataframe - Dataframe containing the F1 score, Precision & Recall\n",
    "                            for the provided actual and predicted fields\n",
    "    \"\"\"\n",
    "    metrics = []\n",
    "    for i in range(len(col_names)):\n",
    "        f1 = f1_score(actual[:, i], predicted[:, i], average='micro')\n",
    "        precision = precision_score(actual[:, i], predicted[:, i], average='micro')\n",
    "        recall = recall_score(actual[:, i], predicted[:, i], average='micro')\n",
    "        \n",
    "        metrics.append([f1, precision, recall])\n",
    "    \n",
    "    metrics = np.array(metrics)\n",
    "    metrics_dataframe = pd.DataFrame(data = metrics, index = col_names, columns = ['F1', 'Precision', 'Recall'])\n",
    "    \n",
    "    return metrics_dataframe"
   ]
  },
  {
   "cell_type": "code",
   "execution_count": 26,
   "metadata": {},
   "outputs": [
    {
     "name": "stdout",
     "output_type": "stream",
     "text": [
      "                              F1  Precision    Recall\n",
      "related                 0.990947   0.990947  0.990947\n",
      "request                 0.986777   0.986777  0.986777\n",
      "offer                   0.998372   0.998372  0.998372\n",
      "aid_related             0.983165   0.983165  0.983165\n",
      "medical_help            0.987997   0.987997  0.987997\n",
      "medical_products        0.991201   0.991201  0.991201\n",
      "search_and_rescue       0.994507   0.994507  0.994507\n",
      "security                0.994609   0.994609  0.994609\n",
      "military                0.994507   0.994507  0.994507\n",
      "child_alone             1.000000   1.000000  1.000000\n",
      "water                   0.994812   0.994812  0.994812\n",
      "food                    0.995067   0.995067  0.995067\n",
      "shelter                 0.990693   0.990693  0.990693\n",
      "clothing                0.997559   0.997559  0.997559\n",
      "money                   0.995779   0.995779  0.995779\n",
      "missing_people          0.997050   0.997050  0.997050\n",
      "refugees                0.993032   0.993032  0.993032\n",
      "death                   0.994100   0.994100  0.994100\n",
      "other_aid               0.975943   0.975943  0.975943\n",
      "infrastructure_related  0.986014   0.986014  0.986014\n",
      "transport               0.991201   0.991201  0.991201\n",
      "buildings               0.993287   0.993287  0.993287\n",
      "electricity             0.996847   0.996847  0.996847\n",
      "tools                   0.998220   0.998220  0.998220\n",
      "hospitals               0.996999   0.996999  0.996999\n",
      "shops                   0.998627   0.998627  0.998627\n",
      "aid_centers             0.996440   0.996440  0.996440\n",
      "other_infrastructure    0.989421   0.989421  0.989421\n",
      "weather_related         0.987997   0.987997  0.987997\n",
      "floods                  0.992015   0.992015  0.992015\n",
      "storm                   0.994151   0.994151  0.994151\n",
      "fire                    0.998118   0.998118  0.998118\n",
      "earthquake              0.996236   0.996236  0.996236\n",
      "cold                    0.997254   0.997254  0.997254\n",
      "other_weather           0.989523   0.989523  0.989523\n",
      "direct_report           0.981233   0.981233  0.981233\n"
     ]
    }
   ],
   "source": [
    "col_names = list(y.columns.values)\n",
    "y_train_pred = pipeline.predict(X_train)\n",
    "\n",
    "print(evaluation_report(np.array(y_train), y_train_pred, col_names))"
   ]
  },
  {
   "cell_type": "code",
   "execution_count": 28,
   "metadata": {},
   "outputs": [
    {
     "name": "stdout",
     "output_type": "stream",
     "text": [
      "                              F1  Precision    Recall\n",
      "related                 0.807751   0.807751  0.807751\n",
      "request                 0.880989   0.880989  0.880989\n",
      "offer                   0.995728   0.995728  0.995728\n",
      "aid_related             0.756790   0.756790  0.756790\n",
      "medical_help            0.921575   0.921575  0.921575\n",
      "medical_products        0.951633   0.951633  0.951633\n",
      "search_and_rescue       0.972994   0.972994  0.972994\n",
      "security                0.982911   0.982911  0.982911\n",
      "military                0.971926   0.971926  0.971926\n",
      "child_alone             1.000000   1.000000  1.000000\n",
      "water                   0.950565   0.950565  0.950565\n",
      "food                    0.933781   0.933781  0.933781\n",
      "shelter                 0.928746   0.928746  0.928746\n",
      "clothing                0.987946   0.987946  0.987946\n",
      "money                   0.978334   0.978334  0.978334\n",
      "missing_people          0.989777   0.989777  0.989777\n",
      "refugees                0.966585   0.966585  0.966585\n",
      "death                   0.959109   0.959109  0.959109\n",
      "other_aid               0.870003   0.870003  0.870003\n",
      "infrastructure_related  0.933171   0.933171  0.933171\n",
      "transport               0.957125   0.957125  0.957125\n",
      "buildings               0.950717   0.950717  0.950717\n",
      "electricity             0.978639   0.978639  0.978639\n",
      "tools                   0.993897   0.993897  0.993897\n",
      "hospitals               0.989319   0.989319  0.989319\n",
      "shops                   0.996643   0.996643  0.996643\n",
      "aid_centers             0.987946   0.987946  0.987946\n",
      "other_infrastructure    0.954684   0.954684  0.954684\n",
      "weather_related         0.863900   0.863900  0.863900\n",
      "floods                  0.943851   0.943851  0.943851\n",
      "storm                   0.932865   0.932865  0.932865\n",
      "fire                    0.986878   0.986878  0.986878\n",
      "earthquake              0.964449   0.964449  0.964449\n",
      "cold                    0.981843   0.981843  0.981843\n",
      "other_weather           0.946597   0.946597  0.946597\n",
      "direct_report           0.850320   0.850320  0.850320\n"
     ]
    }
   ],
   "source": [
    "y_pred = pipeline.predict(X_test)\n",
    "\n",
    "print(evaluation_report(np.array(y_test), y_pred, col_names))"
   ]
  },
  {
   "cell_type": "markdown",
   "metadata": {},
   "source": [
    "### 6. Improve your model\n",
    "Use grid search to find better parameters. "
   ]
  },
  {
   "cell_type": "code",
   "execution_count": null,
   "metadata": {},
   "outputs": [],
   "source": []
  },
  {
   "cell_type": "code",
   "execution_count": null,
   "metadata": {},
   "outputs": [],
   "source": [
    "parameters = \n",
    "\n",
    "cv = "
   ]
  },
  {
   "cell_type": "markdown",
   "metadata": {},
   "source": [
    "### 7. Test your model\n",
    "Show the accuracy, precision, and recall of the tuned model.  \n",
    "\n",
    "Since this project focuses on code quality, process, and  pipelines, there is no minimum performance metric needed to pass. However, make sure to fine tune your models for accuracy, precision and recall to make your project stand out - especially for your portfolio!"
   ]
  },
  {
   "cell_type": "code",
   "execution_count": null,
   "metadata": {},
   "outputs": [],
   "source": []
  },
  {
   "cell_type": "markdown",
   "metadata": {},
   "source": [
    "### 8. Try improving your model further. Here are a few ideas:\n",
    "* try other machine learning algorithms\n",
    "* add other features besides the TF-IDF"
   ]
  },
  {
   "cell_type": "code",
   "execution_count": null,
   "metadata": {},
   "outputs": [],
   "source": []
  },
  {
   "cell_type": "markdown",
   "metadata": {},
   "source": [
    "### 9. Export your model as a pickle file"
   ]
  },
  {
   "cell_type": "code",
   "execution_count": null,
   "metadata": {},
   "outputs": [],
   "source": []
  },
  {
   "cell_type": "markdown",
   "metadata": {},
   "source": [
    "### 10. Use this notebook to complete `train.py`\n",
    "Use the template file attached in the Resources folder to write a script that runs the steps above to create a database and export a model based on a new dataset specified by the user."
   ]
  },
  {
   "cell_type": "code",
   "execution_count": null,
   "metadata": {},
   "outputs": [],
   "source": []
  }
 ],
 "metadata": {
  "kernelspec": {
   "display_name": "Python 3",
   "language": "python",
   "name": "python3"
  },
  "language_info": {
   "codemirror_mode": {
    "name": "ipython",
    "version": 3
   },
   "file_extension": ".py",
   "mimetype": "text/x-python",
   "name": "python",
   "nbconvert_exporter": "python",
   "pygments_lexer": "ipython3",
   "version": "3.6.3"
  }
 },
 "nbformat": 4,
 "nbformat_minor": 2
}
